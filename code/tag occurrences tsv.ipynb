{
 "cells": [
  {
   "cell_type": "markdown",
   "metadata": {},
   "source": [
    "TODO: write description"
   ]
  },
  {
   "cell_type": "code",
   "execution_count": 1,
   "metadata": {},
   "outputs": [],
   "source": [
    "import collections\n",
    "from pathlib import Path"
   ]
  },
  {
   "cell_type": "markdown",
   "metadata": {},
   "source": [
    "1. Set absolute path to folder containing NVivo export files.\n",
    "\n",
    "    The folder should contain one _.txt_ file for each tag (_node_) in NVivo\n",
    "\n",
    "2. Files should be formatted as in the example below:\n",
    "\n",
    "           <Files\\\\amerigo vespucci> - § 1 reference coded  [0,13% Coverage]\n",
    "\n",
    "            Reference 1 - 0,13% Coverage\n",
    "\n",
    "            figlio \n",
    "\n",
    "            <Files\\\\cristoforo colombo> - § 2 references coded  [0,03% Coverage]\n",
    "\n",
    "            Reference 1 - 0,01% Coverage\n",
    "\n",
    "            navigatore\n",
    "\n",
    "            Reference 2 - 0,01% Coverage\n",
    "\n",
    "            esploratore\n",
    "\n",
    "            [...]"
   ]
  },
  {
   "cell_type": "code",
   "execution_count": 2,
   "metadata": {},
   "outputs": [],
   "source": [
    "_FOLDER = Path(\"/Users/ludovica.pannitto/Desktop/NVivo Export\")"
   ]
  },
  {
   "cell_type": "code",
   "execution_count": 4,
   "metadata": {},
   "outputs": [
    {
     "name": "stdout",
     "output_type": "stream",
     "text": [
      "{PosixPath('/Users/ludovica.pannitto/Desktop/NVivo Export/aggettivo.txt'), PosixPath('/Users/ludovica.pannitto/Desktop/NVivo Export/verbo.txt'), PosixPath('/Users/ludovica.pannitto/Desktop/NVivo Export/nome.txt')}\n"
     ]
    }
   ],
   "source": [
    "files = _FOLDER.glob(\"*.txt\")\n",
    "print(files)"
   ]
  },
  {
   "cell_type": "code",
   "execution_count": 10,
   "metadata": {},
   "outputs": [
    {
     "name": "stdout",
     "output_type": "stream",
     "text": [
      "{'aggettivo': defaultdict(<function <lambda> at 0x7feea86953b0>, {'<Files\\\\\\\\amerigo vespucci>': '2', '<Files\\\\\\\\cristoforo colombo>': '2'}), 'verbo': defaultdict(<function <lambda> at 0x7feea86957a0>, {'<Files\\\\\\\\cristoforo colombo>': '1'}), 'nome': defaultdict(<function <lambda> at 0x7fee882a5440>, {'<Files\\\\\\\\amerigo vespucci>': '1', '<Files\\\\\\\\cristoforo colombo>': '2'})}\n"
     ]
    }
   ],
   "source": [
    "dictionary = {}\n",
    "doc_set = set()\n",
    "\n",
    "for filepath in files:\n",
    "\n",
    "    file_basename = filepath.stem\n",
    "    dictionary[file_basename] = collections.defaultdict(lambda: \"0\")\n",
    "    \n",
    "    with filepath.open(encoding=\"utf-16\") as fin:\n",
    "        \n",
    "        for line in fin:    \n",
    "            if line[0] == \"<\":\n",
    "\n",
    "                linesplit_file, linesplit_refs = line.strip().split(\"§\")\n",
    "                occ_number = linesplit_refs.strip().split(\" \")[0]\n",
    "\n",
    "                doc_name = linesplit_file[:-2].strip()\n",
    "                doc_set.add(doc_name)\n",
    "\n",
    "                dictionary[file_basename][doc_name] = occ_number\n"
   ]
  },
  {
   "cell_type": "code",
   "execution_count": 19,
   "metadata": {},
   "outputs": [],
   "source": [
    "with open(\"TAG_SUMMARY.tsv\", \"w\") as fout:\n",
    "\n",
    "    _HEADER = \"\"\n",
    "    for doc_name in doc_set:\n",
    "        _HEADER+=f'\\t{doc_name}'\n",
    "\n",
    "    print(_HEADER, file=fout)\n",
    "\n",
    "\n",
    "    for tagname in dictionary:\n",
    "        table_line = f'{tagname}'\n",
    "\n",
    "        for doc_name in doc_set:\n",
    "            table_line+=f'\\t{dictionary[tagname][doc_name]}'\n",
    "        print(table_line, file=fout)"
   ]
  }
 ],
 "metadata": {
  "kernelspec": {
   "display_name": "Python 3",
   "language": "python",
   "name": "python3"
  },
  "language_info": {
   "codemirror_mode": {
    "name": "ipython",
    "version": 3
   },
   "file_extension": ".py",
   "mimetype": "text/x-python",
   "name": "python",
   "nbconvert_exporter": "python",
   "pygments_lexer": "ipython3",
   "version": "3.7.4"
  }
 },
 "nbformat": 4,
 "nbformat_minor": 2
}
